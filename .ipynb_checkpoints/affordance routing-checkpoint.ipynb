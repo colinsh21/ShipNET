{
 "cells": [
  {
   "cell_type": "code",
   "execution_count": 187,
   "metadata": {
    "collapsed": true
   },
   "outputs": [],
   "source": [
    "'''\n",
    "IMPORTS\n",
    "'''\n",
    "\n",
    "%matplotlib inline\n",
    "\n",
    "# Standard imports\n",
    "import copy\n",
    "import itertools\n",
    "\n",
    "# Scientific computing imports\n",
    "import numpy\n",
    "import matplotlib.pyplot as plt\n",
    "import networkx as nx\n",
    "import pandas as pd\n",
    "from collections import Counter"
   ]
  },
  {
   "cell_type": "code",
   "execution_count": 178,
   "metadata": {
    "collapsed": false
   },
   "outputs": [
    {
     "name": "stdout",
     "output_type": "stream",
     "text": [
      "{'H2': {'orientation': 'horizontal', 'availability': ['I', 'M', 'E', 'H']}, 'H0': {'orientation': 'horizontal', 'availability': ['I', 'M', 'E', 'H']}, 'H1': {'orientation': 'horizontal', 'availability': ['I', 'M', 'E', 'H']}, 'T2': {'orientation': 'transverse', 'availability': ['I', 'M', 'E', 'H']}, 'T0': {'orientation': 'transverse', 'availability': ['I', 'M', 'E', 'H']}, 'T1': {'orientation': 'transverse', 'availability': ['I', 'M', 'E', 'H']}, 'L2': {'orientation': 'longitudinal', 'availability': ['I', 'M', 'E', 'H']}, 'L0': {'orientation': 'longitudinal', 'availability': ['I', 'M', 'E', 'H']}, 'L1': {'orientation': 'longitudinal', 'availability': ['I', 'M', 'E', 'H']}}\n"
     ]
    },
    {
     "data": {
      "image/png": "[encoded data removed]",
      "text/plain": [
       "<matplotlib.figure.Figure at 0x15f37898>"
      ]
     },
     "metadata": {},
     "output_type": "display_data"
    }
   ],
   "source": [
    "#zone grid\n",
    "grid_size=[2,2,2]\n",
    "g=nx.grid_graph(dim=grid_size)\n",
    "g_layout = nx.spectral_layout(g)\n",
    "nx.draw_networkx(g, pos=g_layout, node_color='#dddddd')\n",
    "\n",
    "#label streets and penetrations\n",
    "streets={}\n",
    "geometric_characteristics={'H':'horizontal','L':'longitudinal','T':'transverse'}\n",
    "structural_denotation=['T','L','H']\n",
    "transfer_types={'E':None,'M':None,'I':None,'H':None}\n",
    "for i in range(len(grid_size)):\n",
    "    for structure in range(grid_size[i]+1):\n",
    "        s_name='{}{}'.format(structural_denotation[i],structure)\n",
    "        streets[s_name]={}\n",
    "        streets[s_name]['orientation']=geometric_characteristics[structural_denotation[i]]\n",
    "        streets[s_name]['availability']=list(transfer_types)\n",
    "\n",
    "#link structure and edges between zones (vertices)\n",
    "#print streets\n",
    "for u,v in g.edges():\n",
    "    coord_change=[(a is b) for a, b in zip(u,v)].index(False)\n",
    "    if coord_change==0: #move in x\n",
    "        g[u][v]['penetration']='T{}'.format(max(u[0],v[0]))\n",
    "        g[u][v]['streets']=['L{}'.format(u[1]),'L{}'.format((u[1]+1)),'H{}'.format(u[2]),'H{}'.format((u[2]+1))]   \n",
    "    \n",
    "    if coord_change==1: #move in y\n",
    "        g[u][v]['penetration']='L{}'.format(max(u[1],v[1]))\n",
    "        g[u][v]['streets']=['H{}'.format(u[1]),'H{}'.format((u[1]+1)),'T{}'.format(u[2]),'T{}'.format((u[2]+1))]\n",
    "        \n",
    "    if coord_change==2: #move in z\n",
    "        g[u][v]['penetration']='H{}'.format(max(u[2],v[2]))\n",
    "        g[u][v]['streets']=['T{}'.format(u[1]),'T{}'.format((u[1]+1)),'L{}'.format(u[2]),'L{}'.format((u[2]+1))]        \n",
    "\n",
    "    \n",
    "#generate default information dual\n",
    "i_g=nx.Graph()\n",
    "for key in streets:\n",
    "    if streets[key]['orientation'] is 'horizontal':\n",
    "        for cross_street in streets:\n",
    "            if streets[cross_street]['orientation'] is not 'horizontal':\n",
    "                i_g.add_edge(key,cross_street)\n",
    "                \n",
    "    if streets[key]['orientation'] is 'transverse':\n",
    "        for cross_street in streets:\n",
    "            if streets[cross_street]['orientation'] is not 'transverse':\n",
    "                i_g.add_edge(key,cross_street)\n",
    "                \n",
    "    if streets[key]['orientation'] is 'longitudinal':\n",
    "        for cross_street in streets:\n",
    "            if streets[cross_street]['orientation'] is not 'longitudinal':\n",
    "                i_g.add_edge(key,cross_street)\n",
    "                \n"
   ]
  },
  {
   "cell_type": "code",
   "execution_count": 111,
   "metadata": {
    "collapsed": false
   },
   "outputs": [],
   "source": [
    "#create affordance network\n",
    "aff_g=nx.Graph()\n",
    "\n",
    "#try with two\n",
    "aff_g.add_edge('A1','A2',transfer='E',paths=[])\n",
    "aff_g.add_edge('A2','A3',transfer='M',paths=[])\n",
    "aff_g.node['A1']['loc']=[]\n",
    "aff_g.node['A2']['loc']=[]\n",
    "aff_g.node['A3']['loc']=[]\n",
    "\n"
   ]
  },
  {
   "cell_type": "code",
   "execution_count": 209,
   "metadata": {
    "collapsed": false
   },
   "outputs": [
    {
     "name": "stdout",
     "output_type": "stream",
     "text": [
      "           A1  A3  A2\n",
      "(1, 1, 0)   0   0   4\n",
      "(0, 1, 1)   0   0  19\n",
      "(1, 0, 0)   0   0  15\n",
      "(0, 0, 1)   0   0  17\n",
      "(1, 0, 1)   0   0  10\n",
      "(0, 0, 0)  99   0  11\n",
      "(0, 1, 0)   0   0  13\n",
      "(1, 1, 1)   0  99  10\n",
      "                        (A1, A2)  (A3, A2)\n",
      "((1, 1, 0), (1, 0, 0))        29        24\n",
      "((1, 1, 0), (0, 1, 0))        28        29\n",
      "((1, 1, 0), (1, 1, 1))        17        42\n",
      "((0, 1, 1), (0, 1, 0))        31        32\n",
      "((0, 1, 1), (0, 0, 1))        34        32\n",
      "((0, 1, 1), (1, 1, 1))        23        53\n",
      "((1, 0, 0), (0, 0, 0))        41        27\n",
      "((1, 0, 0), (1, 0, 1))        31        33\n",
      "((0, 0, 1), (0, 0, 0))        53        28\n",
      "((0, 0, 1), (1, 0, 1))        27        32\n",
      "((1, 0, 1), (1, 1, 1))        17        51\n",
      "((0, 0, 0), (0, 1, 0))        46        31\n",
      "    A1  A3  A2\n",
      "A1   0   0  11\n",
      "A3   0   0  10\n",
      "A2  11  10   0\n",
      "          (A1, A2)  (A3, A2)\n",
      "(A1, A2)         0        44\n",
      "(A3, A2)        44         0\n"
     ]
    }
   ],
   "source": [
    "#create affordance network\n",
    "aff_g=nx.Graph()\n",
    "\n",
    "#try with two\n",
    "aff_g.add_edge('A1','A2',transfer='E',paths=[])\n",
    "aff_g.add_edge('A2','A3',transfer='M',paths=[])\n",
    "aff_g.node['A1']['loc']=[]\n",
    "aff_g.node['A2']['loc']=[]\n",
    "aff_g.node['A3']['loc']=[]\n",
    "aff_g.node['A1']['loc_possible']=[(0,0,0)]\n",
    "aff_g.node['A2']['loc_possible']=[]\n",
    "#aff_g.node['A2']['loc_possible']=[(0,1,0),(1,1,0),(0,1,1)]\n",
    "aff_g.node['A3']['loc_possible']=[(1,1,1)]\n",
    "\n",
    "#routing development\n",
    "\n",
    "#first get the available subgraph\n",
    "for transfer in transfer_types:\n",
    "    s_g=nx.Graph()\n",
    "    for j,k,d in g.edges(data=True):\n",
    "        available_streets=[]\n",
    "        for street in d['streets']:\n",
    "            if transfer in streets[street]['availability']:\n",
    "                available_streets.append(street)\n",
    "        if available_streets:\n",
    "            s_g.add_edge(j,k,streets=available_streets)\n",
    "    transfer_types[transfer]=s_g\n",
    "\n",
    "#create dataframe for results\n",
    "e_incidence=pd.DataFrame(index=g.edges(),columns=aff_g.edges())\n",
    "e_incidence=e_incidence.fillna(0)\n",
    "#print e_incidence\n",
    "\n",
    "n_incidence=pd.DataFrame(index=g.nodes(),columns=aff_g.nodes())\n",
    "n_incidence=n_incidence.fillna(0)\n",
    "#print n_incidence\n",
    "\n",
    "a_incidence=pd.DataFrame(index=aff_g.nodes(),columns=aff_g.nodes())\n",
    "a_incidence=a_incidence.fillna(0)\n",
    "#print a_incidence\n",
    "\n",
    "ae_incidence=pd.DataFrame(index=aff_g.edges(),columns=aff_g.edges())\n",
    "ae_incidence=ae_incidence.fillna(0)\n",
    "#print ae_incidence\n",
    "\n",
    "arrangements=1\n",
    "while arrangements<100:\n",
    "    arrangements+=1\n",
    "    for n,n_d in aff_g.nodes(data=True):\n",
    "        if n_d['loc_possible']:\n",
    "            n_loc=n_d['loc_possible'][numpy.random.randint(len(n_d['loc_possible']))]\n",
    "        else:\n",
    "            n_loc=g.nodes()[numpy.random.randint(len(g.nodes()))]\n",
    "        aff_g.node[n]['loc'].append(n_loc)\n",
    "        n_incidence.ix[n_loc,n]+=1\n",
    "    \n",
    "    #post-process locations\n",
    "    for n1,n1_d in aff_g.nodes(data=True): #get affordance incidence\n",
    "        for n2,n2_d in aff_g.nodes(data=True):\n",
    "            if n1==n2:\n",
    "                continue\n",
    "            if n1_d['loc'][-1]==n2_d['loc'][-1]:\n",
    "                a_incidence.ix[n1,n2]+=1\n",
    "                #a_incidence.ix[n2,n1]+=1\n",
    "\n",
    "    walks=[]\n",
    "    for u,v,d in aff_g.edges(data=True):\n",
    "        base_graph=transfer_types[d['transfer']]\n",
    "        #random walk from start to finish\n",
    "        walk=nx.Graph()\n",
    "        walk.add_node(aff_g.node[u]['loc'][-1])\n",
    "        last_added=aff_g.node[u]['loc'][-1]\n",
    "        while aff_g.node[v]['loc'][-1] not in walk.nodes():\n",
    "            adding_node=g.neighbors(last_added)[numpy.random.randint(len(base_graph.neighbors(last_added)))]\n",
    "            walk.add_edge(last_added,adding_node)\n",
    "            last_added=adding_node\n",
    "\n",
    "        walks.append(walk)\n",
    "\n",
    "        aff_g[u][v]['paths'].append(walk.edges())\n",
    "        for e in walk.edges():\n",
    "            #print e, e in e_incidence.index\n",
    "            if e in e_incidence.index:\n",
    "                e_incidence.ix[e,(u,v)] += 1\n",
    "            else:\n",
    "                e_incidence.ix[e[::-1],(u,v)] += 1\n",
    "            #print e_incidence\n",
    "            \n",
    "    #post-process edges\n",
    "    for e1_u,e1_v in aff_g.edges():\n",
    "        #print aff_g[e1_u][e1_v]\n",
    "        path1=aff_g[e1_u][e1_v]['paths'][-1]\n",
    "        for e2_u,e2_v in aff_g.edges():\n",
    "            if (e1_u,e1_v)==(e2_u,e2_v):\n",
    "                continue\n",
    "            #print aff_g[e2_u][e2_v]['paths']\n",
    "            path2=aff_g[e2_u][e2_v]['paths'][-1]\n",
    "            for path_edge in path1:\n",
    "                if (path_edge in path2) or (path_edge[::-1] in path2):\n",
    "                    ae_incidence.ix[(e1_u,e1_v),(e2_u,e2_v)]+=1 #increment for each shared edge if no continue\n",
    "                    break #only increment once\n",
    "                        \n",
    "            \n",
    "        \n",
    "    \n",
    "        \n",
    "        \n",
    "\n",
    "print n_incidence\n",
    "print e_incidence\n",
    "print a_incidence\n",
    "print ae_incidence\n",
    "        \n",
    "        "
   ]
  },
  {
   "cell_type": "code",
   "execution_count": 160,
   "metadata": {
    "collapsed": false
   },
   "outputs": [
    {
     "name": "stdout",
     "output_type": "stream",
     "text": [
      "[<networkx.classes.graph.Graph object at 0x0000000014C8A358>, <networkx.classes.graph.Graph object at 0x0000000003EA2EB8>]\n",
      "    A1  A3  A2\n",
      "A1   0   0   0\n",
      "A3   0   0   0\n",
      "A2   0   0   0\n"
     ]
    }
   ],
   "source": [
    "print walks\n",
    "print a_incidence\n"
   ]
  },
  {
   "cell_type": "code",
   "execution_count": 31,
   "metadata": {
    "collapsed": false
   },
   "outputs": [
    {
     "name": "stdout",
     "output_type": "stream",
     "text": [
      "no\n"
     ]
    }
   ],
   "source": [
    "a=[]\n",
    "if a:\n",
    "    print 'yes'\n",
    "else:\n",
    "    print 'no'"
   ]
  },
  {
   "cell_type": "code",
   "execution_count": 63,
   "metadata": {
    "collapsed": false
   },
   "outputs": [
    {
     "name": "stdout",
     "output_type": "stream",
     "text": [
      "1\n"
     ]
    }
   ],
   "source": [
    "print numpy.random.randint(len([(0,0),(1,2)]))\n"
   ]
  },
  {
   "cell_type": "code",
   "execution_count": 50,
   "metadata": {
    "collapsed": false
   },
   "outputs": [
    {
     "name": "stdout",
     "output_type": "stream",
     "text": [
      "1\n",
      "2\n"
     ]
    }
   ],
   "source": [
    "l=1\n",
    "n=l\n",
    "n=2\n",
    "print l\n",
    "print n"
   ]
  },
  {
   "cell_type": "code",
   "execution_count": 121,
   "metadata": {
    "collapsed": false
   },
   "outputs": [
    {
     "name": "stdout",
     "output_type": "stream",
     "text": [
      "(1, 2)\n",
      "(2, 1)\n"
     ]
    }
   ],
   "source": [
    "e=(1,2)\n",
    "print e\n",
    "print e[::-1]"
   ]
  },
  {
   "cell_type": "code",
   "execution_count": 173,
   "metadata": {
    "collapsed": false
   },
   "outputs": [
    {
     "data": {
      "text/plain": [
       "0"
      ]
     },
     "execution_count": 173,
     "metadata": {},
     "output_type": "execute_result"
    }
   ],
   "source": [
    "list1=[1,2,3]\n",
    "list2=[1,2,3]\n",
    "if not list(set(list1).intersection(list2)):\n",
    "    print 'y'\n",
    "cmp(list1,list2)"
   ]
  },
  {
   "cell_type": "code",
   "execution_count": 188,
   "metadata": {
    "collapsed": false
   },
   "outputs": [
    {
     "name": "stdout",
     "output_type": "stream",
     "text": [
      "False\n",
      "False\n"
     ]
    }
   ],
   "source": [
    "l1=[((0,0,0),(0,1,0)),((0,1,0),(1,1,0))]\n",
    "l2=[((1,1,0),(0,1,0)),((0,0,0),(0,1,0))]\n",
    "\n",
    "print sorted(l1) == sorted(l2)\n",
    "print Counter(l1) == Counter(l2)"
   ]
  },
  {
   "cell_type": "code",
   "execution_count": 191,
   "metadata": {
    "collapsed": false
   },
   "outputs": [
    {
     "name": "stdout",
     "output_type": "stream",
     "text": [
      "((0, 0), (1, 1))\n",
      "((1, 1), (0, 0))\n"
     ]
    }
   ],
   "source": [
    "t=((0,0),(1,1))\n",
    "print t\n",
    "print t[::-1]"
   ]
  },
  {
   "cell_type": "code",
   "execution_count": 196,
   "metadata": {
    "collapsed": false
   },
   "outputs": [
    {
     "ename": "IndexError",
     "evalue": "list index out of range",
     "output_type": "error",
     "traceback": [
      "\u001b[1;31m---------------------------------------------------------------------------\u001b[0m",
      "\u001b[1;31mIndexError\u001b[0m                                Traceback (most recent call last)",
      "\u001b[1;32m<ipython-input-196-4d238b133554>\u001b[0m in \u001b[0;36m<module>\u001b[1;34m()\u001b[0m\n\u001b[0;32m      1\u001b[0m \u001b[0ml\u001b[0m\u001b[1;33m=\u001b[0m\u001b[1;33m[\u001b[0m\u001b[1;33m]\u001b[0m\u001b[1;33m\u001b[0m\u001b[0m\n\u001b[1;32m----> 2\u001b[1;33m \u001b[1;32mprint\u001b[0m \u001b[0ml\u001b[0m\u001b[1;33m[\u001b[0m\u001b[1;33m-\u001b[0m\u001b[1;36m1\u001b[0m\u001b[1;33m]\u001b[0m\u001b[1;33m\u001b[0m\u001b[0m\n\u001b[0m",
      "\u001b[1;31mIndexError\u001b[0m: list index out of range"
     ]
    }
   ],
   "source": [
    "l=[]\n",
    "print l[-1]"
   ]
  },
  {
   "cell_type": "code",
   "execution_count": null,
   "metadata": {
    "collapsed": true
   },
   "outputs": [],
   "source": []
  }
 ],
 "metadata": {
  "kernelspec": {
   "display_name": "Python 2",
   "language": "python",
   "name": "python2"
  },
  "language_info": {
   "codemirror_mode": {
    "name": "ipython",
    "version": 2
   },
   "file_extension": ".py",
   "mimetype": "text/x-python",
   "name": "python",
   "nbconvert_exporter": "python",
   "pygments_lexer": "ipython2",
   "version": "2.7.8"
  }
 },
 "nbformat": 4,
 "nbformat_minor": 0
}
