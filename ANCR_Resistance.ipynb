{
 "cells": [
  {
   "cell_type": "code",
   "execution_count": 1,
   "metadata": {
    "collapsed": true
   },
   "outputs": [],
   "source": [
    "import networkx as nx\n",
    "import numpy as np\n",
    "import copy\n",
    "import random\n",
    "import time\n",
    "import itertools\n",
    "\n",
    "#Plotting\n",
    "import matplotlib.cm as cm\n",
    "import matplotlib.pyplot as plt\n",
    "import matplotlib.lines as mlines\n",
    "from mpl_toolkits.mplot3d import Axes3D\n",
    "%matplotlib inline"
   ]
  },
  {
   "cell_type": "code",
   "execution_count": 54,
   "metadata": {
    "collapsed": false
   },
   "outputs": [
    {
     "data": {
      "text/plain": [
       "[(1, 2, {'r': 1.0}),\n",
       " (1, 3, {'r': 1.0}),\n",
       " (2, 4, {'r': 1.0}),\n",
       " (3, 4, {'r': 1.0}),\n",
       " (4, 5, {'r': 1.0})]"
      ]
     },
     "execution_count": 54,
     "metadata": {},
     "output_type": "execute_result"
    }
   ],
   "source": [
    "g=nx.Graph()\n",
    "\n",
    "g.add_edge(1,2,r=0.0)\n",
    "g.add_edge(1,3,r=0.0)\n",
    "g.add_edge(2,4,r=0.0)\n",
    "g.add_edge(3,4,r=0.0)\n",
    "g.add_edge(4,5,r=0.0)\n",
    "\n",
    "nx.set_edge_attributes(g,'r',1.0)#1E-12)\n",
    "nx.set_node_attributes(g,'r',1.0)\n",
    "\n",
    "g.edges(data=True)"
   ]
  },
  {
   "cell_type": "code",
   "execution_count": 55,
   "metadata": {
    "collapsed": false
   },
   "outputs": [
    {
     "name": "stdout",
     "output_type": "stream",
     "text": [
      "{(1, 2): 0.5, 1: 1.0, 2: 0.5, 3: 0.5, 4: 1.0, 5: 1.0, (4, 5): 1.0, (1, 3): 0.5, (3, 4): 0.5, (2, 4): 0.5}\n"
     ]
    }
   ],
   "source": [
    "g.node[2]['r']=100000000000000\n",
    "# g[1][2]['r']=1000000000000\n",
    "# g[2][4]['r']=1.0\n",
    "# g[4][5]['r']=1.0\n",
    "# g[1][3]['r']=-1E-10\n",
    "I=current_st(g,1,5)\n",
    "print I"
   ]
  },
  {
   "cell_type": "code",
   "execution_count": 57,
   "metadata": {
    "collapsed": false
   },
   "outputs": [],
   "source": [
    "g=nx.grid_graph(dim=[2,3])\n",
    "g.add_edge((1,1),'dead')\n",
    "nx.set_edge_attributes(g,'r',1.0)\n",
    "# print g.edges(data=True)"
   ]
  },
  {
   "cell_type": "code",
   "execution_count": 58,
   "metadata": {
    "collapsed": false
   },
   "outputs": [
    {
     "name": "stdout",
     "output_type": "stream",
     "text": [
      "(1, 2) 1.0\n",
      "(0, 1) 0.6\n",
      "(0, 0) 1.0\n",
      "((1, 2), (0, 2)) 0.4\n",
      "((1, 0), (0, 0)) 0.4\n",
      "dead 0.0\n",
      "(1, 1) 0.6\n",
      "((1, 1), (0, 1)) 0.2\n",
      "((1, 1), (1, 0)) 0.4\n",
      "((0, 2), (0, 1)) 0.4\n",
      "(1, 0) 0.4\n",
      "((0, 1), (0, 0)) 0.6\n",
      "((1, 2), (1, 1)) 0.6\n",
      "(0, 2) 0.4\n",
      "('dead', (1, 1)) 0.0\n"
     ]
    }
   ],
   "source": [
    "# g[(0,0)][(1,0)]['r']=0.5\n",
    "\n",
    "I=current_st(g,(0,0),(1,2))\n",
    "\n",
    "for e in I:\n",
    "    print e,I[e]"
   ]
  },
  {
   "cell_type": "code",
   "execution_count": null,
   "metadata": {
    "collapsed": true
   },
   "outputs": [],
   "source": []
  },
  {
   "cell_type": "code",
   "execution_count": 53,
   "metadata": {
    "collapsed": true
   },
   "outputs": [],
   "source": [
    "from networkx.algorithms.centrality.flow_matrix import *\n",
    "from networkx.utils import reverse_cuthill_mckee_ordering \n",
    "\n",
    "def current_st(G,ss,tt,normalized=False,weight='r',dtype=float, solver='lu'):\n",
    "    r\"\"\"Compute current-flow betweenness centrality for subsets of nodes.\n",
    "\n",
    "    Current-flow betweenness centrality uses an electrical current\n",
    "    model for information spreading in contrast to betweenness\n",
    "    centrality which uses shortest paths.\n",
    "\n",
    "    Current-flow betweenness centrality is also known as\n",
    "    random-walk betweenness centrality [2]_.\n",
    "\n",
    "    Parameters\n",
    "    \"\"\"\n",
    "    \n",
    "    try:\n",
    "        import numpy as np\n",
    "    except ImportError:\n",
    "        raise ImportError('current_flow_betweenness_centrality requires NumPy ',\n",
    "                          'http://scipy.org/')\n",
    "    try:\n",
    "        import scipy \n",
    "    except ImportError:\n",
    "        raise ImportError('current_flow_betweenness_centrality requires SciPy ',\n",
    "                          'http://scipy.org/')\n",
    "    if G.is_directed():\n",
    "        raise nx.NetworkXError('current_flow_betweenness_centrality() ',\n",
    "                               'not defined for digraphs.')\n",
    "    if not nx.is_connected(G):\n",
    "        raise nx.NetworkXError(\"Graph not connected.\")\n",
    "    n = G.number_of_nodes()\n",
    "    ordering = list(reverse_cuthill_mckee_ordering(G))\n",
    "    # make a copy with integer labels according to rcm ordering\n",
    "    # this could be done without a copy if we really wanted to\n",
    "    mapping=dict(zip(ordering,range(n)))\n",
    "#     print mapping\n",
    "    H = nx.relabel_nodes(G,mapping)\n",
    "    betweenness = dict.fromkeys(H.nodes()+H.edges(),0.0) # b[v]=0 for v in H\n",
    "    for row,(s,t) in flow_matrix_row(H, weight=weight, dtype=dtype, \n",
    "                                     solver=solver):\n",
    "#         print row, (s,t)\n",
    "        \n",
    "        i=mapping[ss]\n",
    "        j=mapping[tt]\n",
    "        betweenness[s]+=0.5*np.abs(row[i]-row[j]) \n",
    "        betweenness[t]+=0.5*np.abs(row[i]-row[j])\n",
    "        betweenness[(s,t)]+=np.abs(row[i]-row[j])\n",
    "    if normalized:\n",
    "        nb=(n-1.0)*(n-2.0) # normalization factor\n",
    "    else:\n",
    "        nb=2.0\n",
    "    for v in H:\n",
    "        betweenness[v]=betweenness[v]#/nb#+1.0/(2-n)\n",
    "    betweenness[mapping[ss]]=1.0\n",
    "    betweenness[mapping[tt]]=1.0\n",
    "    I={}\n",
    "    for k,v in betweenness.items():\n",
    "        if k in H.nodes():\n",
    "            I[ordering[k]]=v\n",
    "        else:\n",
    "            e=(ordering[k[0]],ordering[k[1]])\n",
    "            I[e]=v\n",
    "        \n",
    "#     return dict((ordering[k],v) for k,v in betweenness.items())\n",
    "    return I"
   ]
  },
  {
   "cell_type": "code",
   "execution_count": null,
   "metadata": {
    "collapsed": true
   },
   "outputs": [],
   "source": []
  }
 ],
 "metadata": {
  "kernelspec": {
   "display_name": "Python 2",
   "language": "python",
   "name": "python2"
  },
  "language_info": {
   "codemirror_mode": {
    "name": "ipython",
    "version": 2
   },
   "file_extension": ".py",
   "mimetype": "text/x-python",
   "name": "python",
   "nbconvert_exporter": "python",
   "pygments_lexer": "ipython2",
   "version": "2.7.11"
  }
 },
 "nbformat": 4,
 "nbformat_minor": 0
}
