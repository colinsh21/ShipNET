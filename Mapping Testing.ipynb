{
 "cells": [
  {
   "cell_type": "markdown",
   "metadata": {},
   "source": [
    "Mapping optimization\n",
    "---------------------\n",
    "Convert physical architecture into its dual:\n",
    "1. each edge in pa becomes a node\n",
    "2. define starting and stopping node \n",
    "3. initialize pheromones on each edge in dual\n",
    "    1. One pheromene for each objective and each system\n",
    "\n",
    "Ant walk\n",
    "1. walk through dual\n",
    "2. convert walk into configuration\n",
    "3. evaluate configuration\n",
    "\n",
    "Optimization\n",
    "1. create ants\n",
    "2. evaluate ants\n",
    "3. find pareto\n",
    "4. \n",
    "\n"
   ]
  },
  {
   "cell_type": "code",
   "execution_count": 27,
   "metadata": {
    "collapsed": true
   },
   "outputs": [],
   "source": [
    "import numpy\n",
    "import networkx as nx\n",
    "from fractions import Fraction"
   ]
  },
  {
   "cell_type": "code",
   "execution_count": 2,
   "metadata": {
    "collapsed": false
   },
   "outputs": [
    {
     "name": "stdout",
     "output_type": "stream",
     "text": [
      "[array([0, 1, 3, 2, 4]), array([1, 2, 3, 4, 0])]\n",
      "[0, 0]\n"
     ]
    }
   ],
   "source": [
    "temp_list_rank=[[0,2,4,2,5],[1,3,6,7,0]]\n",
    "slr=[] #score list for ranking\n",
    "best=[] #best score [surv,cost]\n",
    "        \n",
    "#vulnerability\n",
    "array=numpy.array(temp_list_rank[0])\n",
    "temp=array.argsort()\n",
    "ranks=numpy.empty(len(array),int)\n",
    "ranks[temp]=numpy.arange(len(array))\n",
    "slr.append(ranks)\n",
    "best.append(min(temp_list_rank[0]))\n",
    "\n",
    "#complexity\n",
    "array=numpy.array(temp_list_rank[1])\n",
    "temp=array.argsort()\n",
    "ranks=numpy.empty(len(array),int)\n",
    "ranks[temp]=numpy.arange(len(array))\n",
    "slr.append(ranks)\n",
    "best.append(min(temp_list_rank[1]))\n",
    "\n",
    "print slr\n",
    "print best"
   ]
  },
  {
   "cell_type": "code",
   "execution_count": 4,
   "metadata": {
    "collapsed": false
   },
   "outputs": [
    {
     "name": "stdout",
     "output_type": "stream",
     "text": [
      "[0, 1, 3, 2, 4]\n"
     ]
    }
   ],
   "source": [
    "l=[0,2,4,2,5]\n",
    "output = [0] * len(l)\n",
    "for i, x in enumerate(sorted(range(len(l)), key=lambda y: l[y])):\n",
    "    output[x] = i\n",
    "print output"
   ]
  },
  {
   "cell_type": "code",
   "execution_count": 10,
   "metadata": {
    "collapsed": false
   },
   "outputs": [
    {
     "name": "stdout",
     "output_type": "stream",
     "text": [
      "5\n"
     ]
    }
   ],
   "source": [
    "X=[0,2,4,2,5]\n",
    "val=5\n",
    "rank = sum([x<val for x in X])+1\n",
    "print rank"
   ]
  },
  {
   "cell_type": "code",
   "execution_count": 24,
   "metadata": {
    "collapsed": false
   },
   "outputs": [
    {
     "name": "stdout",
     "output_type": "stream",
     "text": [
      "[0.08759124087591241, 0.43795620437956206]\n"
     ]
    }
   ],
   "source": [
    "s=(5,0)\n",
    "f_tot=calc_harmonic(len(temp_list_rank[0]))\n",
    "r=[]\n",
    "r.append(sum([x<s[0] for x in temp_list_rank[0]])+1)\n",
    "r.append(sum([x<s[1] for x in temp_list_rank[1]])+1)\n",
    "f=[1.0/r[0],1.0/r[1]]\n",
    "inc=[f[0]/f_tot,f[1]/f_tot]\n",
    "print inc"
   ]
  },
  {
   "cell_type": "code",
   "execution_count": 22,
   "metadata": {
    "collapsed": false
   },
   "outputs": [],
   "source": [
    "def calc_harmonic(n):\n",
    "    return sum(1.0/d for d in range(1, n + 1))"
   ]
  },
  {
   "cell_type": "code",
   "execution_count": 26,
   "metadata": {
    "collapsed": false
   },
   "outputs": [
    {
     "name": "stdout",
     "output_type": "stream",
     "text": [
      "0\n"
     ]
    }
   ],
   "source": [
    "for i in xrange(1):\n",
    "    print i"
   ]
  },
  {
   "cell_type": "code",
   "execution_count": 41,
   "metadata": {
    "collapsed": true
   },
   "outputs": [],
   "source": [
    "g=nx.DiGraph()\n",
    "g.add_edge(1,2)\n",
    "g.add_edge(2,3)\n",
    "g.add_edge(4,3)\n",
    "g.add_edge(1,4)\n"
   ]
  },
  {
   "cell_type": "code",
   "execution_count": 52,
   "metadata": {
    "collapsed": false
   },
   "outputs": [
    {
     "name": "stdout",
     "output_type": "stream",
     "text": [
      "[False]\n",
      "True\n"
     ]
    }
   ],
   "source": [
    "s=[2]\n",
    "t=4\n",
    "conn=[nx.has_path(g,source,t) for source in s]\n",
    "# for source in s:\n",
    "#     conn.append(nx.has_path(g,source,t))\n",
    "print conn\n",
    "c_test=not any([nx.has_path(g,source,t) for source in s])\n",
    "print c_test"
   ]
  },
  {
   "cell_type": "code",
   "execution_count": null,
   "metadata": {
    "collapsed": true
   },
   "outputs": [],
   "source": []
  }
 ],
 "metadata": {
  "kernelspec": {
   "display_name": "Python 2",
   "language": "python",
   "name": "python2"
  },
  "language_info": {
   "codemirror_mode": {
    "name": "ipython",
    "version": 2
   },
   "file_extension": ".py",
   "mimetype": "text/x-python",
   "name": "python",
   "nbconvert_exporter": "python",
   "pygments_lexer": "ipython2",
   "version": "2.7.11"
  }
 },
 "nbformat": 4,
 "nbformat_minor": 0
}
